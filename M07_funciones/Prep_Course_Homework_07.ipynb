{
 "cells": [
  {
   "attachments": {},
   "cell_type": "markdown",
   "metadata": {},
   "source": [
    "## Funciones"
   ]
  },
  {
   "attachments": {},
   "cell_type": "markdown",
   "metadata": {},
   "source": [
    "1) Crear una función que reciba un número como parámetro y devuelva True si es primo y False si no lo es"
   ]
  },
  {
   "cell_type": "code",
   "execution_count": 1,
   "metadata": {},
   "outputs": [],
   "source": [
    "def check_primo(num):\n",
    "    primo = True\n",
    "    for n in range (2,num):\n",
    "        if num%n == 0:\n",
    "            primo = False\n",
    "            break\n",
    "    \n",
    "    return primo\n",
    "    "
   ]
  },
  {
   "cell_type": "code",
   "execution_count": 13,
   "metadata": {},
   "outputs": [
    {
     "data": {
      "text/plain": [
       "True"
      ]
     },
     "execution_count": 13,
     "metadata": {},
     "output_type": "execute_result"
    }
   ],
   "source": [
    "check_primo(7)"
   ]
  },
  {
   "attachments": {},
   "cell_type": "markdown",
   "metadata": {},
   "source": [
    "2) Utilizando la función del punto 1, realizar otra función que reciba de parámetro una lista de números y devuelva sólo aquellos que son primos en otra lista"
   ]
  },
  {
   "cell_type": "code",
   "execution_count": 22,
   "metadata": {},
   "outputs": [],
   "source": [
    "def son_primos(lista):\n",
    "    lista_primos = []\n",
    "    for valor in lista:\n",
    "        if check_primo(valor):\n",
    "            lista_primos.append(valor)\n",
    "    return lista_primos"
   ]
  },
  {
   "cell_type": "code",
   "execution_count": 23,
   "metadata": {},
   "outputs": [
    {
     "data": {
      "text/plain": [
       "[2, 3, 5, 7, 11]"
      ]
     },
     "execution_count": 23,
     "metadata": {},
     "output_type": "execute_result"
    }
   ],
   "source": [
    "lista_numeros = [2, 3,4,5,6,7,8,9,10,11,12]\n",
    "son_primos(lista_numeros)"
   ]
  },
  {
   "attachments": {},
   "cell_type": "markdown",
   "metadata": {},
   "source": [
    "3) Crear una función que al recibir una lista de números, devuelva el que más se repite y cuántas veces lo hace. Si hay más de un \"más repetido\", que devuelva cualquiera"
   ]
  },
  {
   "cell_type": "code",
   "execution_count": 36,
   "metadata": {},
   "outputs": [],
   "source": [
    "def num_repeat(lista):\n",
    "    valores_unicos = []\n",
    "    repetidos = []\n",
    "    \n",
    "    for n in lista:\n",
    "        if n not in valores_unicos:\n",
    "            valores_unicos.append(n)\n",
    "            repetidos.append(1)\n",
    "        else:\n",
    "            index = valores_unicos.index(n)\n",
    "            repetidos[index] += 1\n",
    "    \n",
    "    moda = valores_unicos[0]\n",
    "    maximo_repeticiones = repetidos[0]\n",
    "\n",
    "    for index, valor in enumerate (valores_unicos):\n",
    "        if repetidos[index] > maximo_repeticiones:\n",
    "            moda = valores_unicos[index]\n",
    "            maximo_repeticiones = repetidos[index]\n",
    "\n",
    "    return moda, maximo_repeticiones\n"
   ]
  },
  {
   "cell_type": "code",
   "execution_count": 37,
   "metadata": {},
   "outputs": [
    {
     "data": {
      "text/plain": [
       "(4, 5)"
      ]
     },
     "execution_count": 37,
     "metadata": {},
     "output_type": "execute_result"
    }
   ],
   "source": [
    "lista = [1,2,8,4,5,7,9,6,3,2,4,1,2,4,5,4,2,5,8,4,6,9,9,1]\n",
    "num_repeat(lista)"
   ]
  },
  {
   "attachments": {},
   "cell_type": "markdown",
   "metadata": {},
   "source": [
    "4) Crear una función que convierta entre grados Celsius, Farenheit y Kelvin<br>\n",
    "Fórmula 1\t: (°C × 9/5) + 32 = °F<br>\n",
    "Fórmula 2\t: °C + 273.15 = °K<br>\n",
    "Debe recibir 3 parámetros: el valor, la medida de orígen y la medida de destino\n"
   ]
  },
  {
   "cell_type": "code",
   "execution_count": 14,
   "metadata": {},
   "outputs": [],
   "source": [
    "def conversion (valor,origen,destino):\n",
    "    if origen == 'celsius':\n",
    "        if destino == 'celsius':\n",
    "            valor_destino = valor\n",
    "        elif destino == 'farenheit':\n",
    "            valor_destino = (valor * 9/5) + 32\n",
    "        elif destino == 'kelvin':\n",
    "            valor_destino = valor + 273.15\n",
    "        else:\n",
    "            print('parámetro incorrecto')\n",
    "    elif origen == 'farenheit':\n",
    "        if destino == 'celsius':\n",
    "            valor_destino = (valor - 32) * 5 / 9\n",
    "        elif destino == 'farenheit':\n",
    "            valor_destino = valor\n",
    "        elif destino == 'kelvin':\n",
    "            valor_destino = ((valor - 32) * 5 / 9) + 273.15\n",
    "        else: \n",
    "            print('parámetro incorrecto')\n",
    "    elif origen == 'kelvin':\n",
    "        if destino == 'celsius':\n",
    "            valor_destino = valor - 273.15\n",
    "        elif destino == 'farenheit':\n",
    "            valor_destino = ((valor - 273.15) * 9 / 5) + 32\n",
    "        elif destino == 'kelvin':\n",
    "            valor_destino = valor\n",
    "        else:\n",
    "            print('parámetro incorrecto')\n",
    "    else: \n",
    "        print('parámetro incorrecto')\n",
    "    return valor_destino\n"
   ]
  },
  {
   "cell_type": "code",
   "execution_count": 21,
   "metadata": {},
   "outputs": [
    {
     "data": {
      "text/plain": [
       "33.8"
      ]
     },
     "execution_count": 21,
     "metadata": {},
     "output_type": "execute_result"
    }
   ],
   "source": [
    "conversion (1, 'celsius', 'farenheit')"
   ]
  },
  {
   "attachments": {},
   "cell_type": "markdown",
   "metadata": {},
   "source": [
    "5) Iterando una lista con los tres valores posibles de temperatura que recibe la función del punto 5, hacer un print para cada combinación de los mismos:"
   ]
  },
  {
   "cell_type": "code",
   "execution_count": 23,
   "metadata": {},
   "outputs": [
    {
     "name": "stdout",
     "output_type": "stream",
     "text": [
      "1 grado de celsius a celsius es: 1\n",
      "1 grado de celsius a farenheit es: 33.8\n",
      "1 grado de celsius a kelvin es: 274.15\n",
      "1 grado de farenheit a celsius es: -17.22222222222222\n",
      "1 grado de farenheit a farenheit es: 1\n",
      "1 grado de farenheit a kelvin es: 255.92777777777775\n",
      "1 grado de kelvin a celsius es: -272.15\n",
      "1 grado de kelvin a farenheit es: -457.87\n",
      "1 grado de kelvin a kelvin es: 1\n"
     ]
    }
   ],
   "source": [
    "lista_metricas = ['celsius', 'farenheit', 'kelvin']\n",
    "\n",
    "for origen in lista_metricas:\n",
    "    for destino in lista_metricas:\n",
    "        print(f'1 grado de {origen} a {destino} es: {conversion(1, origen, destino)}')\n",
    "    "
   ]
  },
  {
   "attachments": {},
   "cell_type": "markdown",
   "metadata": {},
   "source": [
    "6) Armar una función que devuelva el factorial de un número. Tener en cuenta que el usuario puede equivocarse y enviar de parámetro un número no entero o negativo"
   ]
  },
  {
   "cell_type": "code",
   "execution_count": 2,
   "metadata": {},
   "outputs": [],
   "source": [
    "def factorial(num):\n",
    "\n",
    "    if type (num) != int:\n",
    "        return 'El número debe ser entero'\n",
    "    \n",
    "    if num < 0:\n",
    "        return 'El número debe ser positivo'\n",
    "    \n",
    "\n",
    "    if num <= 1:\n",
    "        return 1\n",
    "\n",
    "    num = num * factorial(num-1)\n",
    "    return num"
   ]
  },
  {
   "cell_type": "code",
   "execution_count": 3,
   "metadata": {},
   "outputs": [
    {
     "data": {
      "text/plain": [
       "24"
      ]
     },
     "execution_count": 3,
     "metadata": {},
     "output_type": "execute_result"
    }
   ],
   "source": [
    "factorial(4)"
   ]
  }
 ],
 "metadata": {
  "interpreter": {
   "hash": "c85384e4cb51c8b72350f3a8712cc8351fdc3955e32a27f9b60c6242ab125f01"
  },
  "kernelspec": {
   "display_name": "Python 3 (ipykernel)",
   "language": "python",
   "name": "python3"
  },
  "language_info": {
   "codemirror_mode": {
    "name": "ipython",
    "version": 3
   },
   "file_extension": ".py",
   "mimetype": "text/x-python",
   "name": "python",
   "nbconvert_exporter": "python",
   "pygments_lexer": "ipython3",
   "version": "3.11.6"
  }
 },
 "nbformat": 4,
 "nbformat_minor": 4
}
