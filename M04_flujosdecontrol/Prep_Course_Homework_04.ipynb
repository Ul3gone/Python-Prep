{
 "cells": [
  {
   "attachments": {},
   "cell_type": "markdown",
   "metadata": {},
   "source": [
    "## Flujos de Control"
   ]
  },
  {
   "attachments": {},
   "cell_type": "markdown",
   "metadata": {},
   "source": [
    "1) Crear una variable que contenga un elemento del conjunto de números enteros y luego imprimir por pantalla si es mayor o menor a cero"
   ]
  },
  {
   "cell_type": "code",
   "execution_count": 10,
   "metadata": {},
   "outputs": [
    {
     "name": "stdout",
     "output_type": "stream",
     "text": [
      "El dato es igual a cero\n"
     ]
    }
   ],
   "source": [
    "a = 0\n",
    "if (a > 0): \n",
    "    print(\"El dato\", a, \"es mayor a cero\")\n",
    "elif (a < 0):\n",
    "    print(\"El dato\", a, \"es menor a cero\")   \n",
    "else:\n",
    "    print(\"El dato es igual a cero\")    "
   ]
  },
  {
   "attachments": {},
   "cell_type": "markdown",
   "metadata": {},
   "source": [
    "2) Crear dos variables y un condicional que informe si son del mismo tipo de dato"
   ]
  },
  {
   "cell_type": "code",
   "execution_count": 4,
   "metadata": {},
   "outputs": [
    {
     "name": "stdout",
     "output_type": "stream",
     "text": [
      "Las variables son de tipos diferentes\n"
     ]
    }
   ],
   "source": [
    "a = 5\n",
    "b = \"Rock & Roll\"\n",
    "if (type(a) == type(b)):\n",
    "    print(f\"Las variables {a} y {b} sondel mismo tipo\")\n",
    "else:\n",
    "    print(\"Las variables son de tipos diferentes\")"
   ]
  },
  {
   "attachments": {},
   "cell_type": "markdown",
   "metadata": {},
   "source": [
    "3) Para los valores enteros del 1 al 20, imprimir por pantalla si es par o impar"
   ]
  },
  {
   "cell_type": "code",
   "execution_count": 3,
   "metadata": {},
   "outputs": [
    {
     "name": "stdout",
     "output_type": "stream",
     "text": [
      "El número 1 es impar\n",
      "El número 2 es par\n",
      "El número 3 es impar\n",
      "El número 4 es par\n",
      "El número 5 es impar\n",
      "El número 6 es par\n",
      "El número 7 es impar\n",
      "El número 8 es par\n",
      "El número 9 es impar\n",
      "El número 10 es par\n",
      "El número 11 es impar\n",
      "El número 12 es par\n",
      "El número 13 es impar\n",
      "El número 14 es par\n",
      "El número 15 es impar\n",
      "El número 16 es par\n",
      "El número 17 es impar\n",
      "El número 18 es par\n",
      "El número 19 es impar\n",
      "El número 20 es par\n"
     ]
    }
   ],
   "source": [
    "for a in range (1, 21):\n",
    "    if (a%2== 0):\n",
    "        print(\"El número\",a,  \"es par\")\n",
    "    else: \n",
    "        print(\"El número\",a, \"es impar\")\n"
   ]
  },
  {
   "attachments": {},
   "cell_type": "markdown",
   "metadata": {},
   "source": [
    "4) En un ciclo for mostrar para los valores entre 0 y 5 el resultado de elevarlo a la potencia igual a 3"
   ]
  },
  {
   "cell_type": "code",
   "execution_count": 4,
   "metadata": {},
   "outputs": [
    {
     "name": "stdout",
     "output_type": "stream",
     "text": [
      "El número 0 elevado a la potencia 3 es 0\n",
      "El número 1 elevado a la potencia 3 es 1\n",
      "El número 2 elevado a la potencia 3 es 8\n",
      "El número 3 elevado a la potencia 3 es 27\n",
      "El número 4 elevado a la potencia 3 es 64\n",
      "El número 5 elevado a la potencia 3 es 125\n"
     ]
    }
   ],
   "source": [
    "for a in range (0,6):\n",
    "    print (\"El número\",a, \"elevado a la potencia 3 es\",a**3)\n"
   ]
  },
  {
   "attachments": {},
   "cell_type": "markdown",
   "metadata": {},
   "source": [
    "5) Crear una variable que contenga un número entero y realizar un ciclo for la misma cantidad de ciclos"
   ]
  },
  {
   "cell_type": "code",
   "execution_count": 8,
   "metadata": {},
   "outputs": [
    {
     "name": "stdout",
     "output_type": "stream",
     "text": [
      "1\n",
      "2\n",
      "3\n",
      "4\n",
      "5\n"
     ]
    }
   ],
   "source": [
    "a = 5\n",
    "for valor in range (1, a+1):\n",
    "    print (valor)"
   ]
  },
  {
   "attachments": {},
   "cell_type": "markdown",
   "metadata": {},
   "source": [
    "6) Utilizar un ciclo while para realizar el factorial de un número guardado en una variable, sólo si la variable contiene un número entero mayor a 0"
   ]
  },
  {
   "cell_type": "code",
   "execution_count": 3,
   "metadata": {},
   "outputs": [
    {
     "name": "stdout",
     "output_type": "stream",
     "text": [
      "40320\n"
     ]
    }
   ],
   "source": [
    "x = 8\n",
    "if(type(x) == int):\n",
    "    if (x > 0):\n",
    "        fact = x\n",
    "        while x > 2:\n",
    "            x = x -1\n",
    "            fact = fact * x\n",
    "        print(fact)\n",
    "    else:\n",
    "        print(\"El valor no es mayor a cero\")\n",
    "else:\n",
    "    print(\"El valor no es un número entero\")"
   ]
  },
  {
   "attachments": {},
   "cell_type": "markdown",
   "metadata": {},
   "source": [
    "7) Crear un ciclo for dentro de un ciclo while"
   ]
  },
  {
   "cell_type": "code",
   "execution_count": 27,
   "metadata": {},
   "outputs": [
    {
     "name": "stdout",
     "output_type": "stream",
     "text": [
      "ciclo while:  1\n",
      "ciclo for  1\n",
      "ciclo while:  2\n",
      "ciclo for  1\n",
      "ciclo for  2\n",
      "ciclo while:  3\n",
      "ciclo for  1\n",
      "ciclo for  2\n",
      "ciclo for  3\n",
      "ciclo while:  4\n",
      "ciclo for  1\n",
      "ciclo for  2\n",
      "ciclo for  3\n",
      "ciclo for  4\n"
     ]
    }
   ],
   "source": [
    "x = 1\n",
    "while x < 5:\n",
    "    print(\"ciclo while: \",x)\n",
    "    for i in range (1, x+1):\n",
    "        print(\"ciclo for \", i)\n",
    "    x += 1\n",
    "    \n",
    "    "
   ]
  },
  {
   "attachments": {},
   "cell_type": "markdown",
   "metadata": {},
   "source": [
    "8) Crear un ciclo while dentro de un ciclo for"
   ]
  },
  {
   "cell_type": "code",
   "execution_count": 5,
   "metadata": {},
   "outputs": [
    {
     "name": "stdout",
     "output_type": "stream",
     "text": [
      "ciclo for:  1\n",
      "ciclo while  1\n",
      "ciclo for:  2\n",
      "ciclo while  2\n",
      "ciclo while  1\n",
      "ciclo for:  3\n",
      "ciclo while  3\n",
      "ciclo while  2\n",
      "ciclo while  1\n",
      "ciclo for:  4\n",
      "ciclo while  4\n",
      "ciclo while  3\n",
      "ciclo while  2\n",
      "ciclo while  1\n"
     ]
    }
   ],
   "source": [
    "x = 5\n",
    "for i in range(1,x):\n",
    "    print(\"ciclo for: \",i)\n",
    "    x = i\n",
    "    while x > 0:\n",
    "        print(\"ciclo while \",x)\n",
    "        x -= 1"
   ]
  },
  {
   "attachments": {},
   "cell_type": "markdown",
   "metadata": {},
   "source": [
    "9) Imprimir los números primos existentes entre 0 y 30"
   ]
  },
  {
   "cell_type": "code",
   "execution_count": 14,
   "metadata": {},
   "outputs": [
    {
     "name": "stdout",
     "output_type": "stream",
     "text": [
      "El valor 2 es primo\n",
      "El valor 3 es primo\n",
      "El valor 5 es primo\n",
      "El valor 7 es primo\n",
      "El valor 11 es primo\n",
      "El valor 13 es primo\n",
      "El valor 17 es primo\n",
      "El valor 19 es primo\n",
      "El valor 23 es primo\n",
      "El valor 29 es primo\n"
     ]
    }
   ],
   "source": [
    "primo = True\n",
    "for n in range(2, 31):\n",
    "    for x in range(2,n):\n",
    "        if (n%x == 0):\n",
    "            primo = False\n",
    "    if primo:\n",
    "        print('El valor',n,'es primo')\n",
    "    else:\n",
    "        primo = True       "
   ]
  },
  {
   "attachments": {},
   "cell_type": "markdown",
   "metadata": {},
   "source": [
    "10) ¿Se puede mejorar el proceso del punto 9? Utilizar las sentencias break y/ó continue para tal fin"
   ]
  },
  {
   "cell_type": "code",
   "execution_count": 4,
   "metadata": {},
   "outputs": [
    {
     "name": "stdout",
     "output_type": "stream",
     "text": [
      "El valor 2 es primo\n",
      "El valor 3 es primo\n",
      "El valor 5 es primo\n",
      "El valor 7 es primo\n",
      "El valor 11 es primo\n",
      "El valor 13 es primo\n",
      "El valor 17 es primo\n",
      "El valor 19 es primo\n",
      "El valor 23 es primo\n",
      "El valor 29 es primo\n"
     ]
    }
   ],
   "source": [
    "primo = True\n",
    "for n in range(2, 31):\n",
    "    for x in range(2,n):\n",
    "        if (n%x == 0):\n",
    "            primo = False\n",
    "            break\n",
    "    if primo:\n",
    "        print('El valor',n,'es primo')\n",
    "    else:\n",
    "        primo = True   "
   ]
  },
  {
   "attachments": {},
   "cell_type": "markdown",
   "metadata": {},
   "source": [
    "11) En los puntos 9 y 10, se diseño un código que encuentra números primos y además se lo optimizó. ¿Es posible saber en qué medida se optimizó?"
   ]
  },
  {
   "cell_type": "code",
   "execution_count": 5,
   "metadata": {},
   "outputs": [
    {
     "name": "stdout",
     "output_type": "stream",
     "text": [
      "El valor 2 es primo\n",
      "El valor 3 es primo\n",
      "El valor 5 es primo\n",
      "El valor 7 es primo\n",
      "El valor 11 es primo\n",
      "El valor 13 es primo\n",
      "El valor 17 es primo\n",
      "El valor 19 es primo\n",
      "El valor 23 es primo\n",
      "El valor 29 es primo\n"
     ]
    },
    {
     "data": {
      "text/plain": [
       "406"
      ]
     },
     "execution_count": 5,
     "metadata": {},
     "output_type": "execute_result"
    }
   ],
   "source": [
    "ciclos_sin_break = 0\n",
    "primo = True\n",
    "for n in range(2, 31):\n",
    "    for x in range(2,n):\n",
    "        ciclos_sin_break = ciclos_sin_break +1\n",
    "        if (n%x == 0):\n",
    "            primo = False\n",
    "    if primo:\n",
    "        print('El valor',n,'es primo')\n",
    "    else:\n",
    "        primo = True\n",
    "ciclos_sin_break  "
   ]
  },
  {
   "cell_type": "code",
   "execution_count": 6,
   "metadata": {},
   "outputs": [
    {
     "name": "stdout",
     "output_type": "stream",
     "text": [
      "El valor 2 es primo\n",
      "El valor 3 es primo\n",
      "El valor 5 es primo\n",
      "El valor 7 es primo\n",
      "El valor 11 es primo\n",
      "El valor 13 es primo\n",
      "El valor 17 es primo\n",
      "El valor 19 es primo\n",
      "El valor 23 es primo\n",
      "El valor 29 es primo\n"
     ]
    },
    {
     "data": {
      "text/plain": [
       "135"
      ]
     },
     "execution_count": 6,
     "metadata": {},
     "output_type": "execute_result"
    }
   ],
   "source": [
    "ciclos_con_break = 0\n",
    "primo = True\n",
    "for n in range(2, 31):\n",
    "    for x in range(2,n):\n",
    "        ciclos_sin_break = ciclos_con_break +1\n",
    "        if (n%x == 0):\n",
    "            primo = False\n",
    "            break\n",
    "    if primo:\n",
    "        print('El valor',n,'es primo')\n",
    "    else:\n",
    "        primo = True\n",
    "ciclos_con_break"
   ]
  },
  {
   "attachments": {},
   "cell_type": "markdown",
   "metadata": {},
   "source": [
    "12) Aplicando continue, armar un ciclo while que solo imprima los valores divisibles por 12, dentro del rango de números de 100 a 300"
   ]
  },
  {
   "cell_type": "code",
   "execution_count": 18,
   "metadata": {},
   "outputs": [
    {
     "name": "stdout",
     "output_type": "stream",
     "text": [
      "108 Es divisible por 12\n",
      "120 Es divisible por 12\n",
      "132 Es divisible por 12\n",
      "144 Es divisible por 12\n",
      "156 Es divisible por 12\n",
      "168 Es divisible por 12\n",
      "180 Es divisible por 12\n",
      "192 Es divisible por 12\n",
      "204 Es divisible por 12\n",
      "216 Es divisible por 12\n",
      "228 Es divisible por 12\n",
      "240 Es divisible por 12\n",
      "252 Es divisible por 12\n",
      "264 Es divisible por 12\n",
      "276 Es divisible por 12\n",
      "288 Es divisible por 12\n",
      "300 Es divisible por 12\n"
     ]
    }
   ],
   "source": [
    "n = 99\n",
    "while (n<=300):\n",
    "    n += 1\n",
    "    if (n%12 != 0):\n",
    "        continue\n",
    "    print(n,\"Es divisible por 12\")\n"
   ]
  },
  {
   "cell_type": "code",
   "execution_count": 19,
   "metadata": {},
   "outputs": [
    {
     "name": "stdout",
     "output_type": "stream",
     "text": [
      "El número 108 es divisible entre 12\n",
      "El número 120 es divisible entre 12\n",
      "El número 132 es divisible entre 12\n",
      "El número 144 es divisible entre 12\n",
      "El número 156 es divisible entre 12\n",
      "El número 168 es divisible entre 12\n",
      "El número 180 es divisible entre 12\n",
      "El número 192 es divisible entre 12\n",
      "El número 204 es divisible entre 12\n",
      "El número 216 es divisible entre 12\n",
      "El número 228 es divisible entre 12\n",
      "El número 240 es divisible entre 12\n",
      "El número 252 es divisible entre 12\n",
      "El número 264 es divisible entre 12\n",
      "El número 276 es divisible entre 12\n",
      "El número 288 es divisible entre 12\n",
      "El número 300 es divisible entre 12\n"
     ]
    }
   ],
   "source": [
    "numero_divisible = n\n",
    "for n in range(100,301):\n",
    "    if (n%12==0):\n",
    "        print(\"El número\",n, \"es divisible entre 12\")"
   ]
  },
  {
   "attachments": {},
   "cell_type": "markdown",
   "metadata": {},
   "source": [
    "13) Utilizar la función **input()** que permite hacer ingresos por teclado, para encontrar números primos y dar la opción al usario de buscar el siguiente"
   ]
  },
  {
   "cell_type": "code",
   "execution_count": 3,
   "metadata": {},
   "outputs": [
    {
     "name": "stdout",
     "output_type": "stream",
     "text": [
      "El valor 2 es primo\n",
      "¿Quieres buscar el siguiente?\n",
      "El valor 3 es primo\n",
      "¿Quieres buscar el siguiente?\n",
      "El valor 5 es primo\n",
      "¿Quieres buscar el siguiente?\n",
      "Fin\n"
     ]
    }
   ],
   "source": [
    "n = 2\n",
    "primo = True\n",
    "while True:\n",
    "    for x in range(2,n):\n",
    "        if (n % x == 0):\n",
    "            primo = False\n",
    "            break\n",
    "    if primo:\n",
    "        print('El valor',n,'es primo')\n",
    "        print(\"¿Quieres buscar el siguiente?\")\n",
    "        if (input() != \"1\"):\n",
    "            print(\"Fin\")\n",
    "            break\n",
    "    else:\n",
    "        primo = True\n",
    "    n = n + 1"
   ]
  },
  {
   "attachments": {},
   "cell_type": "markdown",
   "metadata": {},
   "source": [
    "14) Crear un ciclo while que encuentre dentro del rango de 100 a 300 el primer número divisible por 3 y además múltiplo de 6"
   ]
  },
  {
   "cell_type": "code",
   "execution_count": 5,
   "metadata": {},
   "outputs": [
    {
     "name": "stdout",
     "output_type": "stream",
     "text": [
      "El numero es  102\n"
     ]
    }
   ],
   "source": [
    "n = 100\n",
    "while (n <= 300):\n",
    "    if (n % 6 ==0):\n",
    "        print (\"El numero es \",n)\n",
    "        break\n",
    "    n = n + 1"
   ]
  }
 ],
 "metadata": {
  "interpreter": {
   "hash": "c85384e4cb51c8b72350f3a8712cc8351fdc3955e32a27f9b60c6242ab125f01"
  },
  "kernelspec": {
   "display_name": "Python 3 (ipykernel)",
   "language": "python",
   "name": "python3"
  },
  "language_info": {
   "codemirror_mode": {
    "name": "ipython",
    "version": 3
   },
   "file_extension": ".py",
   "mimetype": "text/x-python",
   "name": "python",
   "nbconvert_exporter": "python",
   "pygments_lexer": "ipython3",
   "version": "3.11.6"
  }
 },
 "nbformat": 4,
 "nbformat_minor": 4
}
