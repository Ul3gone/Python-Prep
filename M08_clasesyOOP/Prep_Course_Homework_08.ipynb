{
 "cells": [
  {
   "attachments": {},
   "cell_type": "markdown",
   "metadata": {},
   "source": [
    "## Clases y Programación Orientada a Objetos"
   ]
  },
  {
   "attachments": {},
   "cell_type": "markdown",
   "metadata": {},
   "source": [
    "1) Crear la clase vehículo que contenga los atributos:<br>\n",
    "Color<br>\n",
    "Si es moto, auto, camioneta ó camión<br>\n",
    "Cilindrada del motor"
   ]
  },
  {
   "cell_type": "code",
   "execution_count": 1,
   "metadata": {},
   "outputs": [],
   "source": [
    "class Vehiculo:\n",
    "    def __init__(self,color,tipo,cilindrada):\n",
    "        self.color = color\n",
    "        self.tipo = tipo\n",
    "        self.cilindrada = cilindrada"
   ]
  },
  {
   "attachments": {},
   "cell_type": "markdown",
   "metadata": {},
   "source": [
    "2) A la clase Vehiculo creada en el punto 1, agregar los siguientes métodos:<br>\n",
    "Acelerar<br>\n",
    "Frenar<br>\n",
    "Doblar<br>"
   ]
  },
  {
   "cell_type": "code",
   "execution_count": 2,
   "metadata": {},
   "outputs": [],
   "source": [
    "class Vehiculo:\n",
    "    def __init__(self,color,tipo,cilindrada):\n",
    "        self.color = color\n",
    "        self.tipo = tipo\n",
    "        self.cilindrada = cilindrada\n",
    "        self.velocidad = 0\n",
    "        self.direccion = 0\n",
    "\n",
    "    def Acelerar(self, vel):\n",
    "        self.velocidad += vel\n",
    "\n",
    "    def Frenar(self, vel):\n",
    "        self.velocidad -= vel\n",
    "\n",
    "    def Doblar(self, grados):\n",
    "        self.direccion += grados"
   ]
  },
  {
   "attachments": {},
   "cell_type": "markdown",
   "metadata": {},
   "source": [
    "3) Instanciar 3 objetos de la clase vehículo y ejecutar sus métodos, probar luego el resultado"
   ]
  },
  {
   "cell_type": "code",
   "execution_count": 3,
   "metadata": {},
   "outputs": [],
   "source": [
    "v1 = Vehiculo('gris', 'auto', 4)\n",
    "v2 = Vehiculo('negro', 'camión', 8)\n",
    "v3 = Vehiculo('verde', 'moto', 2)\n"
   ]
  },
  {
   "cell_type": "code",
   "execution_count": 4,
   "metadata": {},
   "outputs": [],
   "source": [
    "v1.Acelerar(70)\n",
    "v2.Acelerar(60)\n",
    "v3.Acelerar(30)\n",
    "\n",
    "v1.Frenar(25)\n",
    "v2.Frenar(-10)\n",
    "v3.Frenar(20)\n",
    "\n",
    "v3.Doblar(35)\n",
    "v2.Doblar(-28)"
   ]
  },
  {
   "attachments": {},
   "cell_type": "markdown",
   "metadata": {},
   "source": [
    "4) Agregar a la clase Vehiculo, un método que muestre su estado, es decir, a que velocidad se encuentra y su dirección. Y otro método que muestre color, tipo y cilindrada"
   ]
  },
  {
   "cell_type": "code",
   "execution_count": 5,
   "metadata": {},
   "outputs": [],
   "source": [
    "class Vehiculo:\n",
    "    def __init__(self,color, tipo, cilindrada):\n",
    "        self.color = color\n",
    "        self.tipo = tipo\n",
    "        self.cilindrada = cilindrada\n",
    "        self.velocidad = 0\n",
    "        self.direccion = 0\n",
    "\n",
    "    def Acelerar(self, vel):\n",
    "        self.velocidad += vel\n",
    "\n",
    "    def Frenar(self, vel):\n",
    "        self.velocidad -= vel\n",
    "\n",
    "    def Doblar(self, grados):\n",
    "        self.direccion += grados\n",
    "\n",
    "    def Estado(self):\n",
    "        print('Velocidad: ', self.velocidad, 'Dirección: ', self.direccion)\n",
    "\n",
    "    def Detalle(self):\n",
    "        print('Soy ', self.tipo, ' de color ', self.color, ' y mi cilindrada es de ', self.cilindrada,)\n",
    "\n",
    "    def Estado(self):\n",
    "            print('Velocidad:', self.velocidad, 'Dirección: ', self.direccion)\n",
    "\n",
    "    def Detalle(self):\n",
    "            print('Soy', self.tipo, 'de color', self.color, 'y mi cilindrada es de', self.cilindrada)\n",
    "            "
   ]
  },
  {
   "cell_type": "code",
   "execution_count": 6,
   "metadata": {},
   "outputs": [
    {
     "name": "stdout",
     "output_type": "stream",
     "text": [
      "Soy auto de color gris y mi cilindrada es de 4.1\n"
     ]
    }
   ],
   "source": [
    "v1 = Vehiculo('gris', 'auto', 4.1)\n",
    "v1.Detalle()"
   ]
  },
  {
   "cell_type": "code",
   "execution_count": 7,
   "metadata": {},
   "outputs": [
    {
     "name": "stdout",
     "output_type": "stream",
     "text": [
      "Velocidad: 0 Dirección:  0\n",
      "Velocidad: 50 Dirección:  0\n"
     ]
    }
   ],
   "source": [
    "v1.Estado()\n",
    "v1.Acelerar(50)\n",
    "v1.Estado()"
   ]
  },
  {
   "attachments": {},
   "cell_type": "markdown",
   "metadata": {},
   "source": [
    "5) Crear una clase que permita utilizar las funciones creadas en la práctica del módulo 7<br>\n",
    "Verificar Primo<br>\n",
    "Valor modal<br>\n",
    "Conversión grados<br>\n",
    "Factorial<br>"
   ]
  },
  {
   "cell_type": "code",
   "execution_count": 8,
   "metadata": {},
   "outputs": [],
   "source": [
    "class Tools:\n",
    "    def __init__(self):\n",
    "        pass\n",
    "\n",
    "    def verifica_primo(self,nro):\n",
    "        es_primo = True  # Variable para almacenar el resultado de la verificación de número primo\n",
    "        for i in range(2, nro):  # Iteración sobre los números desde 2 hasta nro-1\n",
    "            if nro % i == 0:  # Verificación si nro es divisible por i (no es primo)\n",
    "                es_primo = False  # Se marca la variable como False indicando que el número no es primo\n",
    "                break  # Se rompe el bucle ya que no es necesario continuar la verificación\n",
    "        return es_primo  # Se devuelve el resultado de la verificación de número primo\n",
    "\n",
    "    def valor_modal(self,lista):\n",
    "        lista_unicos = []\n",
    "        lista_repeticiones = []\n",
    "        if len(lista) == 0:\n",
    "            return None\n",
    "        for elemento in lista:\n",
    "            if elemento in lista_unicos:\n",
    "                i = lista_unicos.index(elemento)\n",
    "                lista_repeticiones[i] += 1\n",
    "            else:\n",
    "                lista_unicos.append(elemento)\n",
    "                lista_repeticiones.append(1)\n",
    "        moda = lista_unicos[0]\n",
    "        maximo = lista_repeticiones[0]\n",
    "        for i, elemento in enumerate(lista_unicos):\n",
    "            if lista_repeticiones[i] > maximo:\n",
    "                moda = lista_unicos[i]\n",
    "                maximo = lista_repeticiones[i]\n",
    "        return moda, maximo\n",
    "\n",
    "    def conversion_grados(self,valor, origen, destino):\n",
    "\n",
    "        if origen == 'celsius':\n",
    "            if destino == 'celsius':\n",
    "                valor_destino = valor  # Si la unidad de origen y destino es la misma, no se realiza ninguna conversión\n",
    "            elif destino == 'farenheit':\n",
    "                valor_destino = (valor * 9 / 5) + 32  # Conversión de Celsius a Farenheit\n",
    "            elif destino == 'kelvin':\n",
    "                valor_destino = valor + 273.15  # Conversión de Celsius a Kelvin\n",
    "            else:\n",
    "                print('Parámetro de Destino incorrecto')  # Mensaje de error si el parámetro de destino no es válido\n",
    "        elif origen == 'farenheit':\n",
    "            if destino == 'celsius':\n",
    "                valor_destino = (valor - 32) * 5 / 9  # Conversión de Farenheit a Celsius\n",
    "            elif destino == 'farenheit':\n",
    "                valor_destino = valor  # Si la unidad de origen y destino es la misma, no se realiza ninguna conversión\n",
    "            elif destino == 'kelvin':\n",
    "                valor_destino = ((valor - 32) * 5 / 9) + 273.15  # Conversión de Farenheit a Kelvin\n",
    "            else:\n",
    "                print('Parámetro de Destino incorrecto')  # Mensaje de error si el parámetro de destino no es válido\n",
    "        elif origen == 'kelvin':\n",
    "            if destino == 'celsius':\n",
    "                valor_destino = valor - 273.15  # Conversión de Kelvin a Celsius\n",
    "            elif destino == 'farenheit':\n",
    "                valor_destino = ((valor - 273.15) * 9 / 5) + 32  # Conversión de Kelvin a Farenheit\n",
    "            elif destino == 'kelvin':\n",
    "                valor_destino = valor  # Si la unidad de origen y destino es la misma, no se realiza ninguna conversión\n",
    "            else:\n",
    "                print('Parámetro de Destino incorrecto')  # Mensaje de error si el parámetro de destino no es válido\n",
    "        else:\n",
    "            print('Parámetro de Origen incorrecto')  # Mensaje de error si el parámetro de origen no es válido\n",
    "    \n",
    "        return valor_destino\n",
    "\n",
    "    def factorial(self,numero):\n",
    "            # Verifica si el número no es entero y devuelve un mensaje de error\n",
    "        if type(numero) != int:\n",
    "            return 'El número debe ser un entero'\n",
    "    \n",
    "        # Verifica si el número es negativo y devuelve un mensaje de error\n",
    "        if numero < 0:\n",
    "            return 'El número debe ser positivo'\n",
    "    \n",
    "            # Caso base: si el número es 0 o 1, el factorial es 1\n",
    "        if numero <= 1:\n",
    "            return 1\n",
    "    \n",
    "            # Recursión: calcula el factorial del número multiplicándolo por el factorial del número anterior\n",
    "        numero = numero * self.factorial(numero - 1)\n",
    "    \n",
    "        return numero\n"
   ]
  },
  {
   "attachments": {},
   "cell_type": "markdown",
   "metadata": {},
   "source": [
    "6) Probar las funciones incorporadas en la clase del punto 5"
   ]
  },
  {
   "cell_type": "code",
   "execution_count": 9,
   "metadata": {},
   "outputs": [],
   "source": [
    "t1 = Tools()"
   ]
  },
  {
   "cell_type": "code",
   "execution_count": 10,
   "metadata": {},
   "outputs": [
    {
     "data": {
      "text/plain": [
       "True"
      ]
     },
     "execution_count": 10,
     "metadata": {},
     "output_type": "execute_result"
    }
   ],
   "source": [
    "t1.verifica_primo(7)"
   ]
  },
  {
   "cell_type": "code",
   "execution_count": 11,
   "metadata": {},
   "outputs": [],
   "source": [
    "lista = [1,2,3,5,5,5,7,8]\n",
    "moda, repeticiones = t1.valor_modal(lista)"
   ]
  },
  {
   "cell_type": "code",
   "execution_count": 12,
   "metadata": {},
   "outputs": [
    {
     "name": "stdout",
     "output_type": "stream",
     "text": [
      "5 3\n"
     ]
    }
   ],
   "source": [
    "print(moda, repeticiones)"
   ]
  },
  {
   "cell_type": "code",
   "execution_count": 13,
   "metadata": {},
   "outputs": [
    {
     "data": {
      "text/plain": [
       "276.15"
      ]
     },
     "execution_count": 13,
     "metadata": {},
     "output_type": "execute_result"
    }
   ],
   "source": [
    "t1.conversion_grados(3,'celsius','kelvin')"
   ]
  },
  {
   "cell_type": "code",
   "execution_count": 14,
   "metadata": {},
   "outputs": [
    {
     "data": {
      "text/plain": [
       "120"
      ]
     },
     "execution_count": 14,
     "metadata": {},
     "output_type": "execute_result"
    }
   ],
   "source": [
    "t1.factorial(5)"
   ]
  },
  {
   "attachments": {},
   "cell_type": "markdown",
   "metadata": {},
   "source": [
    "7) Es necesario que la clase creada en el punto 5 contenga una lista, sobre la cual se apliquen las funciones incorporadas"
   ]
  },
  {
   "cell_type": "code",
   "execution_count": 58,
   "metadata": {},
   "outputs": [],
   "source": [
    "class Tools:\n",
    "    def __init__(self,lista_mumeros):\n",
    "        self.lista = lista_mumeros\n",
    "\n",
    "    def verifica_primo(self):\n",
    "        for i in self.lista:\n",
    "            if self.__verifica_primo(i):\n",
    "                print(f'El valor {i} es primo')\n",
    "            else:\n",
    "                print(f'El valor {i} no es primo')\n",
    "        \n",
    "\n",
    "    def __verifica_primo(self,nro):\n",
    "        es_primo = True  # Variable para almacenar el resultado de la verificación de número primo\n",
    "        for i in range(2, nro):  # Iteración sobre los números desde 2 hasta nro-1\n",
    "            if nro % i == 0:  # Verificación si nro es divisible por i (no es primo)\n",
    "                es_primo = False  # Se marca la variable como False indicando que el número no es primo\n",
    "                break  # Se rompe el bucle ya que no es necesario continuar la verificación\n",
    "        return es_primo  # Se devuelve el resultado de la verificación de número primo\n",
    "\n",
    "\n",
    "\n",
    "    def valor_modal(self):\n",
    "        lista_unicos = []\n",
    "        lista_repeticiones = []\n",
    "        if len(self.lista) == 0:\n",
    "            return None\n",
    "        for elemento in self.lista:\n",
    "            if elemento in lista_unicos:\n",
    "                i = lista_unicos.index(elemento)\n",
    "                lista_repeticiones[i] += 1\n",
    "            else:\n",
    "                lista_unicos.append(elemento)\n",
    "                lista_repeticiones.append(1)\n",
    "        moda = lista_unicos[0]\n",
    "        maximo = lista_repeticiones[0]\n",
    "        for i, elemento in enumerate(lista_unicos):\n",
    "            if lista_repeticiones[i] > maximo:\n",
    "                moda = lista_unicos[i]\n",
    "                maximo = lista_repeticiones[i]\n",
    "        return moda, maximo\n",
    "\n",
    "    def conversion_grados(self, origen, destino):\n",
    "        for i in self.lista:\n",
    "            print(f'El valor {i} de {origen} a {destino} es {self.__conversion_grados(i, origen, destino)}')\n",
    "    \n",
    "    def __conversion_grados(self,valor, origen, destino):\n",
    "\n",
    "        if origen == 'celsius':\n",
    "            if destino == 'celsius':\n",
    "                valor_destino = valor  # Si la unidad de origen y destino es la misma, no se realiza ninguna conversión\n",
    "            elif destino == 'farenheit':\n",
    "                valor_destino = (valor * 9 / 5) + 32  # Conversión de Celsius a Farenheit\n",
    "            elif destino == 'kelvin':\n",
    "                valor_destino = valor + 273.15  # Conversión de Celsius a Kelvin\n",
    "            else:\n",
    "                print('Parámetro de Destino incorrecto')  # Mensaje de error si el parámetro de destino no es válido\n",
    "        elif origen == 'farenheit':\n",
    "            if destino == 'celsius':\n",
    "                valor_destino = (valor - 32) * 5 / 9  # Conversión de Farenheit a Celsius\n",
    "            elif destino == 'farenheit':\n",
    "                valor_destino = valor  # Si la unidad de origen y destino es la misma, no se realiza ninguna conversión\n",
    "            elif destino == 'kelvin':\n",
    "                valor_destino = ((valor - 32) * 5 / 9) + 273.15  # Conversión de Farenheit a Kelvin\n",
    "            else:\n",
    "                print('Parámetro de Destino incorrecto')  # Mensaje de error si el parámetro de destino no es válido\n",
    "        elif origen == 'kelvin':\n",
    "            if destino == 'celsius':\n",
    "                valor_destino = valor - 273.15  # Conversión de Kelvin a Celsius\n",
    "            elif destino == 'farenheit':\n",
    "                valor_destino = ((valor - 273.15) * 9 / 5) + 32  # Conversión de Kelvin a Farenheit\n",
    "            elif destino == 'kelvin':\n",
    "                valor_destino = valor  # Si la unidad de origen y destino es la misma, no se realiza ninguna conversión\n",
    "            else:\n",
    "                print('Parámetro de Destino incorrecto')  # Mensaje de error si el parámetro de destino no es válido\n",
    "        else:\n",
    "            print('Parámetro de Origen incorrecto')  # Mensaje de error si el parámetro de origen no es válido\n",
    "    \n",
    "        return valor_destino\n",
    "\n",
    "    def factorial(self):\n",
    "        for i in self.lista:\n",
    "            print(f'El factorial de {i} es {self.__factorial(i)}')\n",
    "    \n",
    "    def __factorial(self,numero):\n",
    "            # Verifica si el número no es entero y devuelve un mensaje de error\n",
    "        if type(numero) != int:\n",
    "            return 'El número debe ser un entero'\n",
    "    \n",
    "        # Verifica si el número es negativo y devuelve un mensaje de error\n",
    "        if numero < 0:\n",
    "            return 'El número debe ser positivo'\n",
    "    \n",
    "            # Caso base: si el número es 0 o 1, el factorial es 1\n",
    "        if numero <= 1:\n",
    "            return 1\n",
    "    \n",
    "            # Recursión: calcula el factorial del número multiplicándolo por el factorial del número anterior\n",
    "        numero = numero * self.__factorial(numero - 1)\n",
    "    \n",
    "        return numero\n"
   ]
  },
  {
   "cell_type": "code",
   "execution_count": 59,
   "metadata": {},
   "outputs": [],
   "source": [
    "t = Tools([1,5,8,2,2,2])"
   ]
  },
  {
   "cell_type": "code",
   "execution_count": 60,
   "metadata": {},
   "outputs": [
    {
     "name": "stdout",
     "output_type": "stream",
     "text": [
      "El valor 1 es primo\n",
      "El valor 5 es primo\n",
      "El valor 8 no es primo\n",
      "El valor 2 es primo\n",
      "El valor 2 es primo\n",
      "El valor 2 es primo\n"
     ]
    }
   ],
   "source": [
    "t.verifica_primo()"
   ]
  },
  {
   "cell_type": "code",
   "execution_count": 61,
   "metadata": {},
   "outputs": [
    {
     "data": {
      "text/plain": [
       "(2, 3)"
      ]
     },
     "execution_count": 61,
     "metadata": {},
     "output_type": "execute_result"
    }
   ],
   "source": [
    "t.valor_modal()"
   ]
  },
  {
   "cell_type": "code",
   "execution_count": 62,
   "metadata": {},
   "outputs": [
    {
     "name": "stdout",
     "output_type": "stream",
     "text": [
      "El valor 1 de celsius a kelvin es 274.15\n",
      "El valor 5 de celsius a kelvin es 278.15\n",
      "El valor 8 de celsius a kelvin es 281.15\n",
      "El valor 2 de celsius a kelvin es 275.15\n",
      "El valor 2 de celsius a kelvin es 275.15\n",
      "El valor 2 de celsius a kelvin es 275.15\n"
     ]
    }
   ],
   "source": [
    "t.conversion_grados('celsius','kelvin')"
   ]
  },
  {
   "cell_type": "code",
   "execution_count": 63,
   "metadata": {},
   "outputs": [
    {
     "name": "stdout",
     "output_type": "stream",
     "text": [
      "El factorial de 1 es 1\n",
      "El factorial de 5 es 120\n",
      "El factorial de 8 es 40320\n",
      "El factorial de 2 es 2\n",
      "El factorial de 2 es 2\n",
      "El factorial de 2 es 2\n"
     ]
    }
   ],
   "source": [
    "t.factorial()"
   ]
  },
  {
   "attachments": {},
   "cell_type": "markdown",
   "metadata": {},
   "source": [
    "8) Crear un archivo .py aparte y ubicar allí la clase generada en el punto anterior. Luego realizar la importación del módulo y probar alguna de sus funciones"
   ]
  },
  {
   "cell_type": "code",
   "execution_count": 64,
   "metadata": {},
   "outputs": [],
   "source": [
    "from modulo_herramientas import *"
   ]
  },
  {
   "cell_type": "code",
   "execution_count": 65,
   "metadata": {},
   "outputs": [],
   "source": [
    "t2 = Tools([2,1,1,4,8,8,8])"
   ]
  },
  {
   "cell_type": "code",
   "execution_count": 66,
   "metadata": {},
   "outputs": [
    {
     "name": "stdout",
     "output_type": "stream",
     "text": [
      "El valor 2 es primo\n",
      "El valor 1 es primo\n",
      "El valor 1 es primo\n",
      "El valor 4 no es primo\n",
      "El valor 8 no es primo\n",
      "El valor 8 no es primo\n",
      "El valor 8 no es primo\n"
     ]
    }
   ],
   "source": [
    "t2.verifica_primo()"
   ]
  },
  {
   "cell_type": "code",
   "execution_count": 67,
   "metadata": {},
   "outputs": [
    {
     "data": {
      "text/plain": [
       "(8, 3)"
      ]
     },
     "execution_count": 67,
     "metadata": {},
     "output_type": "execute_result"
    }
   ],
   "source": [
    "t2.valor_modal()"
   ]
  },
  {
   "cell_type": "code",
   "execution_count": 70,
   "metadata": {},
   "outputs": [
    {
     "name": "stdout",
     "output_type": "stream",
     "text": [
      "El valor 2 de celsius a kelvin es 275.15\n",
      "El valor 1 de celsius a kelvin es 274.15\n",
      "El valor 1 de celsius a kelvin es 274.15\n",
      "El valor 4 de celsius a kelvin es 277.15\n",
      "El valor 8 de celsius a kelvin es 281.15\n",
      "El valor 8 de celsius a kelvin es 281.15\n",
      "El valor 8 de celsius a kelvin es 281.15\n"
     ]
    }
   ],
   "source": [
    "t2.conversion_grados('celsius','kelvin')"
   ]
  }
 ],
 "metadata": {
  "interpreter": {
   "hash": "c85384e4cb51c8b72350f3a8712cc8351fdc3955e32a27f9b60c6242ab125f01"
  },
  "kernelspec": {
   "display_name": "Python 3 (ipykernel)",
   "language": "python",
   "name": "python3"
  },
  "language_info": {
   "codemirror_mode": {
    "name": "ipython",
    "version": 3
   },
   "file_extension": ".py",
   "mimetype": "text/x-python",
   "name": "python",
   "nbconvert_exporter": "python",
   "pygments_lexer": "ipython3",
   "version": "3.11.6"
  }
 },
 "nbformat": 4,
 "nbformat_minor": 4
}
